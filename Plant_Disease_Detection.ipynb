{
  "nbformat": 4,
  "nbformat_minor": 0,
  "metadata": {
    "colab": {
      "name": "Plant_Disease_Detection.ipynb",
      "provenance": [],
      "collapsed_sections": []
    },
    "kernelspec": {
      "name": "python3",
      "display_name": "Python 3"
    },
    "language_info": {
      "name": "python"
    }
  },
  "cells": [
    {
      "cell_type": "code",
      "metadata": {
        "id": "q47WZA1DgMvC"
      },
      "source": [
        "import numpy as np\n",
        "import pickle\n",
        "import cv2\n",
        "from os import listdir\n",
        "from sklearn.preprocessing import LabelBinarizer\n",
        "from keras.models import Sequential\n",
        "from keras.layers.normalization import BatchNormalization\n",
        "from keras.layers.convolutional import Conv2D\n",
        "from keras.layers.convolutional import MaxPooling2D\n",
        "from keras.layers.core import Activation, Flatten, Dropout, Dense\n",
        "from keras import backend as K\n",
        "from keras.preprocessing.image import ImageDataGenerator\n",
        "from keras.optimizers import Adam\n",
        "from keras.preprocessing import image\n",
        "from keras.preprocessing.image import img_to_array\n",
        "from sklearn.preprocessing import MultiLabelBinarizer\n",
        "from sklearn.model_selection import train_test_split\n",
        "import matplotlib.pyplot as plt"
      ],
      "execution_count": 70,
      "outputs": []
    },
    {
      "cell_type": "code",
      "metadata": {
        "id": "oPK1qpvnkiCE",
        "colab": {
          "base_uri": "https://localhost:8080/"
        },
        "outputId": "530dbdb3-e4ad-4f0d-930a-b65f031d6db1"
      },
      "source": [
        "from google.colab import drive\n",
        "drive.mount('/content/drive/')"
      ],
      "execution_count": 71,
      "outputs": [
        {
          "output_type": "stream",
          "text": [
            "Drive already mounted at /content/drive/; to attempt to forcibly remount, call drive.mount(\"/content/drive/\", force_remount=True).\n"
          ],
          "name": "stdout"
        }
      ]
    },
    {
      "cell_type": "code",
      "metadata": {
        "id": "Tp_vaA5xiesv"
      },
      "source": [
        "EPOCHS = 25\n",
        "INIT_LR = 1e-3\n",
        "BS = 32\n",
        "default_image_size = tuple((256, 256))\n",
        "image_size = 0\n",
        "directory_root = '/content/drive/MyDrive/PlantVillage'\n",
        "width=256\n",
        "height=256\n",
        "depth=3"
      ],
      "execution_count": 72,
      "outputs": []
    },
    {
      "cell_type": "code",
      "metadata": {
        "id": "dH7Wg9ZAlkuT"
      },
      "source": [
        "def convert_image_to_array(image_dir):\n",
        "    try:\n",
        "        image = cv2.imread(image_dir)\n",
        "        if image is not None :\n",
        "            image = cv2.resize(image, default_image_size)   \n",
        "            return img_to_array(image)\n",
        "        else :\n",
        "            return np.array([])\n",
        "    except Exception as e:\n",
        "        print(f\"Error : {e}\")\n",
        "        return None"
      ],
      "execution_count": 73,
      "outputs": []
    },
    {
      "cell_type": "code",
      "metadata": {
        "id": "XBqbVnQBl62G",
        "colab": {
          "base_uri": "https://localhost:8080/"
        },
        "outputId": "4e0e65a0-7228-4e12-8248-a070076964fb"
      },
      "source": [
        "image_list, label_list = [], []\n",
        "try:\n",
        "    print(\"[INFO] Loading images ...\")\n",
        "    root_dir = listdir(directory_root)\n",
        "    for directory in root_dir :\n",
        "        # remove .DS_Store from list\n",
        "        if directory == \".DS_Store\" :\n",
        "            root_dir.remove(directory)\n",
        "\n",
        "    for plant_disease_folder in root_dir:\n",
        "        print(f\"[INFO] Processing {plant_disease_folder} ...\")\n",
        "        plant_disease_image_list = listdir(f\"{directory_root}/{plant_disease_folder}\")\n",
        "                \n",
        "        for single_plant_disease_image in plant_disease_image_list :\n",
        "            if single_plant_disease_image == \".DS_Store\" :\n",
        "                plant_disease_image_list.remove(single_plant_disease_image)\n",
        "\n",
        "        for image in plant_disease_image_list[:200]:\n",
        "            image_directory = f\"{directory_root}/{plant_disease_folder}/{image}\"\n",
        "            if image_directory.endswith(\".jpg\") == True or image_directory.endswith(\".JPG\") == True:\n",
        "                image_list.append(convert_image_to_array(image_directory))\n",
        "                label_list.append(plant_disease_folder)\n",
        "    print(\"[INFO] Image loading completed\")  \n",
        "except Exception as e:\n",
        "    print(f\"Error : {e}\")"
      ],
      "execution_count": 79,
      "outputs": [
        {
          "output_type": "stream",
          "text": [
            "[INFO] Loading images ...\n",
            "[INFO] Processing Tomato_Bacterial_spot ...\n",
            "[INFO] Processing Tomato_Septoria_leaf_spot ...\n",
            "[INFO] Processing Tomato_Spider_mites_Two_spotted_spider_mite ...\n",
            "[INFO] Processing Tomato_Early_blight ...\n",
            "[INFO] Processing Tomato_healthy ...\n",
            "[INFO] Processing Tomato__Target_Spot ...\n",
            "[INFO] Processing Tomato_Late_blight ...\n",
            "[INFO] Processing Tomato_Leaf_Mold ...\n",
            "[INFO] Processing Tomato__Tomato_YellowLeaf__Curl_Virus ...\n",
            "[INFO] Processing Potato___Late_blight ...\n",
            "[INFO] Processing Pepper__bell___Bacterial_spot ...\n",
            "[INFO] Processing Pepper__bell___healthy ...\n",
            "[INFO] Processing Potato___healthy ...\n",
            "[INFO] Processing Potato___Early_blight ...\n",
            "[INFO] Processing Tomato__Tomato_mosaic_virus ...\n",
            "[INFO] Image loading completed\n"
          ],
          "name": "stdout"
        }
      ]
    },
    {
      "cell_type": "code",
      "metadata": {
        "id": "_JJ-mWydmI1Q"
      },
      "source": [
        "label_binarizer = LabelBinarizer()\n",
        "image_labels = label_binarizer.fit_transform(label_list)\n",
        "n_classes = len(label_binarizer.classes_)"
      ],
      "execution_count": 80,
      "outputs": []
    },
    {
      "cell_type": "code",
      "metadata": {
        "id": "8jXu6Cw2mWWO",
        "colab": {
          "base_uri": "https://localhost:8080/"
        },
        "outputId": "e075170b-74af-4471-9e77-dde030809818"
      },
      "source": [
        "print(label_binarizer.classes_)"
      ],
      "execution_count": 81,
      "outputs": [
        {
          "output_type": "stream",
          "text": [
            "['Pepper__bell___Bacterial_spot' 'Pepper__bell___healthy'\n",
            " 'Potato___Early_blight' 'Potato___Late_blight' 'Potato___healthy'\n",
            " 'Tomato_Bacterial_spot' 'Tomato_Early_blight' 'Tomato_Late_blight'\n",
            " 'Tomato_Leaf_Mold' 'Tomato_Septoria_leaf_spot'\n",
            " 'Tomato_Spider_mites_Two_spotted_spider_mite' 'Tomato__Target_Spot'\n",
            " 'Tomato__Tomato_YellowLeaf__Curl_Virus' 'Tomato__Tomato_mosaic_virus'\n",
            " 'Tomato_healthy']\n"
          ],
          "name": "stdout"
        }
      ]
    },
    {
      "cell_type": "code",
      "metadata": {
        "id": "8cAShQwimaEC",
        "colab": {
          "base_uri": "https://localhost:8080/"
        },
        "outputId": "da2fb2f7-55b9-484d-8d03-55b84a9c6233"
      },
      "source": [
        "np_image_list = np.array(image_list, dtype=np.float16) / 225.0\n",
        "print(\"[INFO] Spliting data to train, test\")\n",
        "x_train, x_test, y_train, y_test = train_test_split(np_image_list, image_labels, test_size=0.2, random_state = 42) "
      ],
      "execution_count": 82,
      "outputs": [
        {
          "output_type": "stream",
          "text": [
            "[INFO] Spliting data to train, test\n"
          ],
          "name": "stdout"
        }
      ]
    },
    {
      "cell_type": "code",
      "metadata": {
        "id": "_2Jhk7hAmisr"
      },
      "source": [
        "aug = ImageDataGenerator(\n",
        "    rotation_range=25, width_shift_range=0.1,\n",
        "    height_shift_range=0.1, shear_range=0.2, \n",
        "    zoom_range=0.2,horizontal_flip=True, \n",
        "    fill_mode=\"nearest\")"
      ],
      "execution_count": 83,
      "outputs": []
    },
    {
      "cell_type": "code",
      "metadata": {
        "id": "ghTSrIZEmsZQ"
      },
      "source": [
        "model = Sequential()\n",
        "inputShape = (height, width, depth)\n",
        "chanDim = -1\n",
        "if K.image_data_format() == \"channels_first\":\n",
        "    inputShape = (depth, height, width)\n",
        "    chanDim = 1\n",
        "model.add(Conv2D(32, (3, 3), padding=\"same\",input_shape=inputShape))\n",
        "model.add(Activation(\"relu\"))\n",
        "model.add(BatchNormalization(axis=chanDim))\n",
        "model.add(MaxPooling2D(pool_size=(3, 3)))\n",
        "model.add(Dropout(0.25))\n",
        "model.add(Conv2D(64, (3, 3), padding=\"same\"))\n",
        "model.add(Activation(\"relu\"))\n",
        "model.add(BatchNormalization(axis=chanDim))\n",
        "model.add(Conv2D(64, (3, 3), padding=\"same\"))\n",
        "model.add(Activation(\"relu\"))\n",
        "model.add(BatchNormalization(axis=chanDim))\n",
        "model.add(MaxPooling2D(pool_size=(2, 2)))\n",
        "model.add(Dropout(0.25))\n",
        "model.add(Conv2D(128, (3, 3), padding=\"same\"))\n",
        "model.add(Activation(\"relu\"))\n",
        "model.add(BatchNormalization(axis=chanDim))\n",
        "model.add(Conv2D(128, (3, 3), padding=\"same\"))\n",
        "model.add(Activation(\"relu\"))\n",
        "model.add(BatchNormalization(axis=chanDim))\n",
        "model.add(MaxPooling2D(pool_size=(2, 2)))\n",
        "model.add(Dropout(0.25))\n",
        "model.add(Flatten())\n",
        "model.add(Dense(1024))\n",
        "model.add(Activation(\"relu\"))\n",
        "model.add(BatchNormalization())\n",
        "model.add(Dropout(0.5))\n",
        "model.add(Dense(n_classes))\n",
        "model.add(Activation(\"softmax\"))"
      ],
      "execution_count": 84,
      "outputs": []
    },
    {
      "cell_type": "code",
      "metadata": {
        "id": "Xjb0zbwcmx72",
        "colab": {
          "base_uri": "https://localhost:8080/"
        },
        "outputId": "53285d06-304e-4366-ad34-7a98fa8c9e26"
      },
      "source": [
        "model.summary()"
      ],
      "execution_count": 85,
      "outputs": [
        {
          "output_type": "stream",
          "text": [
            "Model: \"sequential_2\"\n",
            "_________________________________________________________________\n",
            "Layer (type)                 Output Shape              Param #   \n",
            "=================================================================\n",
            "conv2d_10 (Conv2D)           (None, 256, 256, 32)      896       \n",
            "_________________________________________________________________\n",
            "activation_14 (Activation)   (None, 256, 256, 32)      0         \n",
            "_________________________________________________________________\n",
            "batch_normalization_12 (Batc (None, 256, 256, 32)      128       \n",
            "_________________________________________________________________\n",
            "max_pooling2d_6 (MaxPooling2 (None, 85, 85, 32)        0         \n",
            "_________________________________________________________________\n",
            "dropout_8 (Dropout)          (None, 85, 85, 32)        0         \n",
            "_________________________________________________________________\n",
            "conv2d_11 (Conv2D)           (None, 85, 85, 64)        18496     \n",
            "_________________________________________________________________\n",
            "activation_15 (Activation)   (None, 85, 85, 64)        0         \n",
            "_________________________________________________________________\n",
            "batch_normalization_13 (Batc (None, 85, 85, 64)        256       \n",
            "_________________________________________________________________\n",
            "conv2d_12 (Conv2D)           (None, 85, 85, 64)        36928     \n",
            "_________________________________________________________________\n",
            "activation_16 (Activation)   (None, 85, 85, 64)        0         \n",
            "_________________________________________________________________\n",
            "batch_normalization_14 (Batc (None, 85, 85, 64)        256       \n",
            "_________________________________________________________________\n",
            "max_pooling2d_7 (MaxPooling2 (None, 42, 42, 64)        0         \n",
            "_________________________________________________________________\n",
            "dropout_9 (Dropout)          (None, 42, 42, 64)        0         \n",
            "_________________________________________________________________\n",
            "conv2d_13 (Conv2D)           (None, 42, 42, 128)       73856     \n",
            "_________________________________________________________________\n",
            "activation_17 (Activation)   (None, 42, 42, 128)       0         \n",
            "_________________________________________________________________\n",
            "batch_normalization_15 (Batc (None, 42, 42, 128)       512       \n",
            "_________________________________________________________________\n",
            "conv2d_14 (Conv2D)           (None, 42, 42, 128)       147584    \n",
            "_________________________________________________________________\n",
            "activation_18 (Activation)   (None, 42, 42, 128)       0         \n",
            "_________________________________________________________________\n",
            "batch_normalization_16 (Batc (None, 42, 42, 128)       512       \n",
            "_________________________________________________________________\n",
            "max_pooling2d_8 (MaxPooling2 (None, 21, 21, 128)       0         \n",
            "_________________________________________________________________\n",
            "dropout_10 (Dropout)         (None, 21, 21, 128)       0         \n",
            "_________________________________________________________________\n",
            "flatten_2 (Flatten)          (None, 56448)             0         \n",
            "_________________________________________________________________\n",
            "dense_4 (Dense)              (None, 1024)              57803776  \n",
            "_________________________________________________________________\n",
            "activation_19 (Activation)   (None, 1024)              0         \n",
            "_________________________________________________________________\n",
            "batch_normalization_17 (Batc (None, 1024)              4096      \n",
            "_________________________________________________________________\n",
            "dropout_11 (Dropout)         (None, 1024)              0         \n",
            "_________________________________________________________________\n",
            "dense_5 (Dense)              (None, 15)                15375     \n",
            "_________________________________________________________________\n",
            "activation_20 (Activation)   (None, 15)                0         \n",
            "=================================================================\n",
            "Total params: 58,102,671\n",
            "Trainable params: 58,099,791\n",
            "Non-trainable params: 2,880\n",
            "_________________________________________________________________\n"
          ],
          "name": "stdout"
        }
      ]
    },
    {
      "cell_type": "code",
      "metadata": {
        "id": "HJQWsQVwm1Oe",
        "colab": {
          "base_uri": "https://localhost:8080/"
        },
        "outputId": "e6c930d7-504c-43ef-b901-b6b183745b38"
      },
      "source": [
        "opt = Adam(lr=INIT_LR, decay=INIT_LR / EPOCHS)\n",
        "model.compile(loss=\"binary_crossentropy\", optimizer=opt,metrics=[\"accuracy\"])\n",
        "# train the network\n",
        "print(\"[INFO] training network...\")"
      ],
      "execution_count": 86,
      "outputs": [
        {
          "output_type": "stream",
          "text": [
            "[INFO] training network...\n"
          ],
          "name": "stdout"
        }
      ]
    },
    {
      "cell_type": "code",
      "metadata": {
        "id": "E3lntGokm8KN",
        "colab": {
          "base_uri": "https://localhost:8080/"
        },
        "outputId": "218d9351-1437-4ca0-c896-87f15c588d41"
      },
      "source": [
        "history = model.fit_generator(\n",
        "    aug.flow(x_train, y_train, batch_size=BS),\n",
        "    validation_data=(x_test, y_test),\n",
        "    steps_per_epoch=len(x_train) // BS,\n",
        "    epochs=EPOCHS, verbose=1\n",
        "    )"
      ],
      "execution_count": 87,
      "outputs": [
        {
          "output_type": "stream",
          "text": [
            "/usr/local/lib/python3.7/dist-packages/tensorflow/python/keras/engine/training.py:1844: UserWarning: `Model.fit_generator` is deprecated and will be removed in a future version. Please use `Model.fit`, which supports generators.\n",
            "  warnings.warn('`Model.fit_generator` is deprecated and '\n"
          ],
          "name": "stderr"
        },
        {
          "output_type": "stream",
          "text": [
            "Epoch 1/25\n",
            "73/73 [==============================] - 539s 7s/step - loss: 0.7733 - accuracy: 0.1912 - val_loss: 0.8638 - val_accuracy: 0.0660\n",
            "Epoch 2/25\n",
            "73/73 [==============================] - 540s 7s/step - loss: 0.2630 - accuracy: 0.4070 - val_loss: 3.2344 - val_accuracy: 0.0761\n",
            "Epoch 3/25\n",
            "73/73 [==============================] - 540s 7s/step - loss: 0.1557 - accuracy: 0.5572 - val_loss: 1.2408 - val_accuracy: 0.0508\n",
            "Epoch 4/25\n",
            "73/73 [==============================] - 539s 7s/step - loss: 0.1349 - accuracy: 0.6420 - val_loss: 3.0081 - val_accuracy: 0.0914\n",
            "Epoch 5/25\n",
            "73/73 [==============================] - 532s 7s/step - loss: 0.1280 - accuracy: 0.6615 - val_loss: 1.1403 - val_accuracy: 0.1235\n",
            "Epoch 6/25\n",
            "73/73 [==============================] - 534s 7s/step - loss: 0.1075 - accuracy: 0.7306 - val_loss: 0.5622 - val_accuracy: 0.2724\n",
            "Epoch 7/25\n",
            "73/73 [==============================] - 537s 7s/step - loss: 0.1047 - accuracy: 0.7307 - val_loss: 0.7390 - val_accuracy: 0.2200\n",
            "Epoch 8/25\n",
            "73/73 [==============================] - 531s 7s/step - loss: 0.1171 - accuracy: 0.6901 - val_loss: 2.3640 - val_accuracy: 0.1557\n",
            "Epoch 9/25\n",
            "73/73 [==============================] - 533s 7s/step - loss: 0.1874 - accuracy: 0.5939 - val_loss: 2.4321 - val_accuracy: 0.1675\n",
            "Epoch 10/25\n",
            "73/73 [==============================] - 533s 7s/step - loss: 0.1582 - accuracy: 0.5921 - val_loss: 1.5703 - val_accuracy: 0.1709\n",
            "Epoch 11/25\n",
            "73/73 [==============================] - 535s 7s/step - loss: 0.1093 - accuracy: 0.7355 - val_loss: 0.2018 - val_accuracy: 0.5279\n",
            "Epoch 12/25\n",
            "73/73 [==============================] - 535s 7s/step - loss: 0.1030 - accuracy: 0.7365 - val_loss: 0.2508 - val_accuracy: 0.5516\n",
            "Epoch 13/25\n",
            "73/73 [==============================] - 535s 7s/step - loss: 0.0974 - accuracy: 0.7562 - val_loss: 0.5229 - val_accuracy: 0.1184\n",
            "Epoch 14/25\n",
            "73/73 [==============================] - 545s 7s/step - loss: 0.0963 - accuracy: 0.7618 - val_loss: 0.3002 - val_accuracy: 0.4332\n",
            "Epoch 15/25\n",
            "73/73 [==============================] - 558s 8s/step - loss: 0.0847 - accuracy: 0.8027 - val_loss: 0.1845 - val_accuracy: 0.4992\n",
            "Epoch 16/25\n",
            "73/73 [==============================] - 543s 7s/step - loss: 0.0937 - accuracy: 0.7700 - val_loss: 0.1949 - val_accuracy: 0.6497\n",
            "Epoch 17/25\n",
            "73/73 [==============================] - 520s 7s/step - loss: 0.0880 - accuracy: 0.7808 - val_loss: 0.3605 - val_accuracy: 0.3756\n",
            "Epoch 18/25\n",
            "73/73 [==============================] - 525s 7s/step - loss: 0.0862 - accuracy: 0.7948 - val_loss: 0.2171 - val_accuracy: 0.5567\n",
            "Epoch 19/25\n",
            "73/73 [==============================] - 524s 7s/step - loss: 0.0790 - accuracy: 0.8207 - val_loss: 0.0909 - val_accuracy: 0.7547\n",
            "Epoch 20/25\n",
            "73/73 [==============================] - 541s 7s/step - loss: 0.0723 - accuracy: 0.8371 - val_loss: 0.0896 - val_accuracy: 0.7868\n",
            "Epoch 21/25\n",
            "73/73 [==============================] - 561s 8s/step - loss: 0.0644 - accuracy: 0.8515 - val_loss: 0.3350 - val_accuracy: 0.4755\n",
            "Epoch 22/25\n",
            "73/73 [==============================] - 559s 8s/step - loss: 0.0681 - accuracy: 0.8317 - val_loss: 0.1598 - val_accuracy: 0.8122\n",
            "Epoch 23/25\n",
            "73/73 [==============================] - 523s 7s/step - loss: 0.0607 - accuracy: 0.8586 - val_loss: 2.2519 - val_accuracy: 0.5905\n",
            "Epoch 24/25\n",
            "73/73 [==============================] - 513s 7s/step - loss: 0.0617 - accuracy: 0.8672 - val_loss: 1.3986 - val_accuracy: 0.7614\n",
            "Epoch 25/25\n",
            "73/73 [==============================] - 513s 7s/step - loss: 0.0568 - accuracy: 0.8747 - val_loss: 0.1333 - val_accuracy: 0.7005\n"
          ],
          "name": "stdout"
        }
      ]
    },
    {
      "cell_type": "code",
      "metadata": {
        "id": "_DulgA7gnEUo",
        "colab": {
          "base_uri": "https://localhost:8080/",
          "height": 545
        },
        "outputId": "e0bed9fe-e418-4391-ed75-401489c76cbf"
      },
      "source": [
        "acc = history.history['accuracy']\n",
        "val_acc = history.history['val_accuracy']\n",
        "loss = history.history['loss']\n",
        "val_loss = history.history['val_loss']\n",
        "epochs = range(1, len(acc) + 1)\n",
        "#Train and validation accuracy\n",
        "plt.plot(epochs, acc, 'b', label='Training accurarcy')\n",
        "plt.plot(epochs, val_acc, 'r', label='Validation accurarcy')\n",
        "plt.title('Training and Validation accurarcy')\n",
        "plt.legend()\n",
        "\n",
        "plt.figure()\n",
        "#Train and validation loss\n",
        "plt.plot(epochs, loss, 'b', label='Training loss')\n",
        "plt.plot(epochs, val_loss, 'r', label='Validation loss')\n",
        "plt.title('Training and Validation loss')\n",
        "plt.legend()\n",
        "plt.show()"
      ],
      "execution_count": 89,
      "outputs": [
        {
          "output_type": "display_data",
          "data": {
            "image/png": "[encoded data removed]",
            "text/plain": [
              "<Figure size 432x288 with 1 Axes>"
            ]
          },
          "metadata": {
            "tags": [],
            "needs_background": "light"
          }
        },
        {
          "output_type": "display_data",
          "data": {
            "image/png": "[encoded data removed]",
            "text/plain": [
              "<Figure size 432x288 with 1 Axes>"
            ]
          },
          "metadata": {
            "tags": [],
            "needs_background": "light"
          }
        }
      ]
    },
    {
      "cell_type": "code",
      "metadata": {
        "id": "rCSykZepnPhL",
        "colab": {
          "base_uri": "https://localhost:8080/"
        },
        "outputId": "cadd9a0c-3a65-4d15-e891-9f2f162408be"
      },
      "source": [
        "print(\"[INFO] Calculating model accuracy\")\n",
        "scores = model.evaluate(x_test, y_test)\n",
        "print(f\"Test Accuracy: {scores[1]*100}\")"
      ],
      "execution_count": 90,
      "outputs": [
        {
          "output_type": "stream",
          "text": [
            "[INFO] Calculating model accuracy\n",
            "19/19 [==============================] - 28s 1s/step - loss: 0.1333 - accuracy: 0.7005\n",
            "Test Accuracy: 70.0507640838623\n"
          ],
          "name": "stdout"
        }
      ]
    }
  ]
}